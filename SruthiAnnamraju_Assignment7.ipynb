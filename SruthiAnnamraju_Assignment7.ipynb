{
 "cells": [
  {
   "cell_type": "code",
   "execution_count": 2,
   "metadata": {},
   "outputs": [
    {
     "name": "stdout",
     "output_type": "stream",
     "text": [
      "K value :9\n",
      "Cross-Validation:0.98\n"
     ]
    }
   ],
   "source": [
    "import numpy as np\n",
    "import pandas as pd\n",
    "from sklearn.model_selection import train_test_split,cross_val_score\n",
    "from sklearn.neighbors import KNeighborsClassifier\n",
    "from sklearn.metrics import accuracy_score\n",
    "data=pd.read_csv('C:\\\\Users\\\\pusul\\\\Desktop\\\\assinment7\\\\iris.csv')\n",
    "data['species']=(data['species']=='setosa').astype(int)*1+(data['species']=='versicolor').astype(int)*2+(data['species']=='virginica').astype(int)*3\n",
    "x=data.drop(['species'],axis=1)\n",
    "y=data['species']\n",
    "x_training_data,x_testing_data,y_training_data,y_testing_data=train_test_split(x,y,test_size=0.33,random_state=1)\n",
    "x_training_data,x_testing_data,y_training_data,y_testing_data=np.array(x_training_data),np.array(x_testing_data),np.array(y_training_data),np.array(y_testing_data)\n",
    "Model=KNeighborsClassifier(n_neighbors=6).fit(x_training_data,y_training_data)\n",
    "prediction=Model.predict(x_testing_data)\n",
    "neighbors = list(range(1,50,2))\n",
    "cross_validation = []\n",
    "for K in neighbors:\n",
    "    knn_algoritham = KNeighborsClassifier(n_neighbors=K)\n",
    "    score = cross_val_score(knn_algoritham, x_training_data, y_training_data, cv=10, scoring='accuracy')\n",
    "    cross_validation.append(score.mean())\n",
    "Missclassification_error = [1 - y for y in cross_validation]\n",
    "K_Value = neighbors[Missclassification_error .index(min(Missclassification_error ))]\n",
    "print(f\"K value :{K_Value}\")\n",
    "print(f\"Cross-Validation:{accuracy_score(y_testing_data, prediction)}\")"
   ]
  },
  {
   "cell_type": "code",
   "execution_count": null,
   "metadata": {},
   "outputs": [],
   "source": []
  },
  {
   "cell_type": "code",
   "execution_count": null,
   "metadata": {},
   "outputs": [],
   "source": []
  },
  {
   "cell_type": "code",
   "execution_count": null,
   "metadata": {},
   "outputs": [],
   "source": []
  },
  {
   "cell_type": "code",
   "execution_count": null,
   "metadata": {},
   "outputs": [],
   "source": []
  },
  {
   "cell_type": "code",
   "execution_count": null,
   "metadata": {},
   "outputs": [],
   "source": []
  }
 ],
 "metadata": {
  "kernelspec": {
   "display_name": "Python 3",
   "language": "python",
   "name": "python3"
  },
  "language_info": {
   "codemirror_mode": {
    "name": "ipython",
    "version": 3
   },
   "file_extension": ".py",
   "mimetype": "text/x-python",
   "name": "python",
   "nbconvert_exporter": "python",
   "pygments_lexer": "ipython3",
   "version": "3.7.3"
  }
 },
 "nbformat": 4,
 "nbformat_minor": 2
}
