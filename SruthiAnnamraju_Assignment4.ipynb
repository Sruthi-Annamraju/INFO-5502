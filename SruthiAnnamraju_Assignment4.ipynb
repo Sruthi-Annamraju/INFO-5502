{
 "cells": [
  {
   "cell_type": "code",
   "execution_count": null,
   "metadata": {},
   "outputs": [],
   "source": [
    "\n",
    "#  1.Data Cleaning and Finding the median of the Male employees incomes and Female employees income\n",
    "\n",
    "import datatable as dt\n",
    "import datascience as ds\n",
    "import pandas as pd\n",
    "import numpy as np\n",
    "data = pd.read_csv(\"Desktop\\\\multipleChoiceResponses.csv\")\n",
    "data = data.reindex(data.index.drop(0)).reset_index(drop=True)\n",
    "data = data.dropna(how='any', subset=['Q9'])\n",
    "mean_dict = {'0-10,000': 5000, '10-20,000': 15000, '20-30,000': 25000, '30-40,000': 35000,\n",
    "       '40-50,000': 45000, '50-60,000': 55000, '60-70,000': 65000, '70-80,000': 75000,\n",
    "       '80-90,000': 85000, '90-100,000': 95000, '100-125,000': 112500,\n",
    "       '125-150,000': 137500, '150-200,000': 175000, '200-250,000': 225000,\n",
    "       '250-300,000': 275000, '300-400,000': 350000, '400-500,000': 450000,\n",
    "       '500,000+':500000}\n",
    "data['Mean Salary'] = data['Q9'].apply(lambda value: mean_dict[value])\n",
    "input_table = ds.Table.from_df(data, keep_index=False)\n",
    "income_table = input_table.select(['Q1', 'Mean Salary'])\n",
    "income_table = income_table.relabeled('Q1', 'Gender')\n",
    "male_and_female = income_table.where('Gender', ds.are.containing('ale'))\n",
    "male_and_female_medians = male_and_female.group('Gender', np.median)\n",
    "male_and_female_medians.show()\n"
   ]
  },
  {
   "cell_type": "code",
   "execution_count": null,
   "metadata": {},
   "outputs": [],
   "source": [
    "\n",
    "#2.Ploting the overlaid Histogram graph for the income of male and female employees\n",
    "\n",
    "import matplotlib.pyplot as plt\n",
    "%matplotlib inline\n",
    "male_female_income_df = male_and_female.to_df()\n",
    "plt.hist(male_female_income_df[male_female_income_df['Gender']=='Male']['Mean Salary'], bins=20, alpha=0.5, label='Male Income')\n",
    "plt.hist(male_female_income_df[male_female_income_df['Gender']=='Female']['Mean Salary'], bins=20, alpha=0.5, label='Female Income')\n",
    "plt.legend(loc='upper center')\n",
    "plt.title('Overlaid Histogram of Male and Female Incomes')\n",
    "plt.show()"
   ]
  },
  {
   "cell_type": "code",
   "execution_count": null,
   "metadata": {},
   "outputs": [],
   "source": [
    "\n",
    "# 3.1.Selecting the sample which includes 500 employees\n",
    "\n",
    "male_income = male_and_female.where('Gender', ds.are.equal_to('Male'))\n",
    "female_income = male_and_female.where('Gender', ds.are.equal_to('Female'))\n",
    "male_sample = male_income.sample(250)\n",
    "female_sample = female_income.sample(250)\n",
    "male_sample_df = male_sample.to_df()\n",
    "female_sample_df = female_sample.to_df()\n",
    "sample = female_sample_df.append(male_sample_df, ignore_index=True)\n",
    "sample_table = ds.Table.from_df(sample, keep_index=False)\n",
    "\n",
    " \n",
    "#3.3.Drawing the sample income histogram and, Plotting the medians of male and female incomes population\n",
    "\n",
    "plt.hist(male_female_income_df['Mean Salary'], bins = 20, alpha=0.5, label='Income')\n",
    "plt.scatter(25000, 0, color='red', s=30)\n",
    "plt.scatter(35000, 0, color='yellow', s=30)"
   ]
  },
  {
   "cell_type": "code",
   "execution_count": null,
   "metadata": {},
   "outputs": [],
   "source": [
    "\n",
    "#3.4. Drawing the histogram of test statistics of sample and plotting the observed statistcs on the graph using Testing Hypothesis\n",
    "result = ds.make_array()\n",
    "for i in np.arange(500):\n",
    "    male_sample = male_income.sample(250)\n",
    "    female_sample = female_income.sample(250)\n",
    "    male_sample_df = male_sample.to_df()\n",
    "    female_sample_df = female_sample.to_df()\n",
    "    sample = female_sample_df.append(male_sample_df, ignore_index=True)\n",
    "    sample_table = ds.Table.from_df(sample, keep_index=False)\n",
    "    male_and_female_means = sample_table.group('Gender', np.average)\n",
    "    male_and_female_means_df = male_and_female_means.to_df()\n",
    "    result = np.append(result, male_and_female_means_df.iloc[1]['Mean Salary average'] - male_and_female_means_df.iloc[0]['Mean Salary average'])\n",
    "population_mean = male_and_female.group('Gender', np.average).to_df()\n",
    "observed_statistic = population_mean.iloc[1]['Mean Salary average'] - population_mean.iloc[0]['Mean Salary average']\n",
    "plt.hist(result, bins = 20, alpha=0.5, label='Income')\n",
    "plt.scatter(observed_statistic, 0, color='red', s=30)"
   ]
  },
  {
   "cell_type": "code",
   "execution_count": null,
   "metadata": {},
   "outputs": [],
   "source": [
    "\n",
    "# 3.6.Drawing the histogram of incomes of bootstrap sample using Bootstrap\n",
    "\n",
    "bootstrap_result = ds.make_array()\n",
    "for i in np.arange(500):\n",
    "    bootstrap_sample = sample_table.sample()\n",
    "    bootstrap_male_and_female_means = bootstrap_sample.group('Gender', np.average)\n",
    "    bootstrap_male_and_female_means_df = bootstrap_male_and_female_means.to_df()\n",
    "    bootstrap_result = np.append(bootstrap_result, (bootstrap_male_and_female_means_df.iloc[1]['Mean Salary average'] - bootstrap_male_and_female_means_df.iloc[0]['Mean Salary average']))\n",
    "plt.hist(bootstrap_result, bins = 20, alpha=0.5, label='Income')"
   ]
  },
  {
   "cell_type": "code",
   "execution_count": null,
   "metadata": {},
   "outputs": [],
   "source": [
    "\n",
    "#3.7. Finding p-value using the A/B Testing\n",
    "\n",
    "shuffled_results = ds.make_array()\n",
    "for i in np.arange(500):\n",
    "    shuffled_Genders = male_and_female.sample(with_replacement = False).column(0)\n",
    "    original_and_shuffled = male_and_female.with_column('Shuffled Gender', shuffled_Genders)\n",
    "    shuffled_only = original_and_shuffled.drop('Gender')\n",
    "    shuffled_group_means = shuffled_only.group('Shuffled Gender', np.average)\n",
    "    shuffled_group_means_df = shuffled_group_means.to_df()\n",
    "    shuffled_results = np.append(shuffled_results, (shuffled_group_means_df.iloc[1]['Mean Salary average'] - shuffled_group_means_df.iloc[0]['Mean Salary average']))\n",
    "plt.hist(shuffled_results, bins = 20, alpha=0.5, label='Income')\n",
    "\n",
    "p_value = np.count_nonzero(shuffled_results <= observed_statistic) / i\n",
    "p_value"
   ]
  },
  {
   "cell_type": "code",
   "execution_count": null,
   "metadata": {},
   "outputs": [],
   "source": [
    "pip install datatable"
   ]
  },
  {
   "cell_type": "code",
   "execution_count": null,
   "metadata": {},
   "outputs": [],
   "source": []
  }
 ],
 "metadata": {
  "kernelspec": {
   "display_name": "Python 3",
   "language": "python",
   "name": "python3"
  },
  "language_info": {
   "codemirror_mode": {
    "name": "ipython",
    "version": 3
   },
   "file_extension": ".py",
   "mimetype": "text/x-python",
   "name": "python",
   "nbconvert_exporter": "python",
   "pygments_lexer": "ipython3",
   "version": "3.7.3"
  }
 },
 "nbformat": 4,
 "nbformat_minor": 4
}
