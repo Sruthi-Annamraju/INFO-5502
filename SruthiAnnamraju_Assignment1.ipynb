{
 "cells": [
  {
   "cell_type": "code",
   "execution_count": 2,
   "metadata": {},
   "outputs": [],
   "source": [
    "import pandas as p #importing pandas package\n",
    "\n",
    "dataframe=p.read_csv('C:\\\\Sruthi\\\\unsorted_file_assignment1.csv') #reading a data file from the folder and storing it in dataframe\n",
    "\n",
    "dataframe_result=dataframe.sort_values(by=['L_NAME'],ascending=True) #sorting the data value using the sort_values function by Last name\n",
    "\n",
    "dataframe_result.to_csv('C:\\\\Sruthi\\\\sorted_file_assignment1.csv') #writing the resulted data file to new csv file\n",
    "\n",
    " "
   ]
  },
  {
   "cell_type": "code",
   "execution_count": null,
   "metadata": {},
   "outputs": [],
   "source": []
  }
 ],
 "metadata": {
  "kernelspec": {
   "display_name": "Python 3",
   "language": "python",
   "name": "python3"
  },
  "language_info": {
   "codemirror_mode": {
    "name": "ipython",
    "version": 3
   },
   "file_extension": ".py",
   "mimetype": "text/x-python",
   "name": "python",
   "nbconvert_exporter": "python",
   "pygments_lexer": "ipython3",
   "version": "3.7.6"
  }
 },
 "nbformat": 4,
 "nbformat_minor": 2
}
